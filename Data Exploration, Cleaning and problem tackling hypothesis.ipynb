{
 "cells": [
  {
   "cell_type": "markdown",
   "metadata": {},
   "source": [
    "# Data Exploration and Cleaning"
   ]
  },
  {
   "cell_type": "code",
   "execution_count": 1,
   "metadata": {},
   "outputs": [],
   "source": [
    "%matplotlib inline\n",
    "\n",
    "import pandas as pd\n",
    "import seaborn as sns\n",
    "import matplotlib.pyplot as plt\n",
    "import numpy as np"
   ]
  },
  {
   "cell_type": "code",
   "execution_count": 2,
   "metadata": {},
   "outputs": [],
   "source": [
    "df = pd.read_csv('./data/medium_data.csv')\n",
    "df.set_index('id', inplace=True)"
   ]
  },
  {
   "cell_type": "code",
   "execution_count": 3,
   "metadata": {},
   "outputs": [
    {
     "data": {
      "text/html": [
       "<div>\n",
       "<style scoped>\n",
       "    .dataframe tbody tr th:only-of-type {\n",
       "        vertical-align: middle;\n",
       "    }\n",
       "\n",
       "    .dataframe tbody tr th {\n",
       "        vertical-align: top;\n",
       "    }\n",
       "\n",
       "    .dataframe thead th {\n",
       "        text-align: right;\n",
       "    }\n",
       "</style>\n",
       "<table border=\"1\" class=\"dataframe\">\n",
       "  <thead>\n",
       "    <tr style=\"text-align: right;\">\n",
       "      <th></th>\n",
       "      <th>url</th>\n",
       "      <th>title</th>\n",
       "      <th>subtitle</th>\n",
       "      <th>image</th>\n",
       "      <th>claps</th>\n",
       "      <th>responses</th>\n",
       "      <th>reading_time</th>\n",
       "      <th>publication</th>\n",
       "      <th>date</th>\n",
       "    </tr>\n",
       "    <tr>\n",
       "      <th>id</th>\n",
       "      <th></th>\n",
       "      <th></th>\n",
       "      <th></th>\n",
       "      <th></th>\n",
       "      <th></th>\n",
       "      <th></th>\n",
       "      <th></th>\n",
       "      <th></th>\n",
       "      <th></th>\n",
       "    </tr>\n",
       "  </thead>\n",
       "  <tbody>\n",
       "    <tr>\n",
       "      <th>1</th>\n",
       "      <td>https://towardsdatascience.com/a-beginners-gui...</td>\n",
       "      <td>A Beginner’s Guide to Word Embedding with Gens...</td>\n",
       "      <td>NaN</td>\n",
       "      <td>1.png</td>\n",
       "      <td>850</td>\n",
       "      <td>8</td>\n",
       "      <td>8</td>\n",
       "      <td>Towards Data Science</td>\n",
       "      <td>2019-05-30</td>\n",
       "    </tr>\n",
       "    <tr>\n",
       "      <th>2</th>\n",
       "      <td>https://towardsdatascience.com/hands-on-graph-...</td>\n",
       "      <td>Hands-on Graph Neural Networks with PyTorch &amp; ...</td>\n",
       "      <td>NaN</td>\n",
       "      <td>2.png</td>\n",
       "      <td>1100</td>\n",
       "      <td>11</td>\n",
       "      <td>9</td>\n",
       "      <td>Towards Data Science</td>\n",
       "      <td>2019-05-30</td>\n",
       "    </tr>\n",
       "    <tr>\n",
       "      <th>3</th>\n",
       "      <td>https://towardsdatascience.com/how-to-use-ggpl...</td>\n",
       "      <td>How to Use ggplot2 in Python</td>\n",
       "      <td>A Grammar of Graphics for Python</td>\n",
       "      <td>3.png</td>\n",
       "      <td>767</td>\n",
       "      <td>1</td>\n",
       "      <td>5</td>\n",
       "      <td>Towards Data Science</td>\n",
       "      <td>2019-05-30</td>\n",
       "    </tr>\n",
       "    <tr>\n",
       "      <th>4</th>\n",
       "      <td>https://towardsdatascience.com/databricks-how-...</td>\n",
       "      <td>Databricks: How to Save Files in CSV on Your L...</td>\n",
       "      <td>When I work on Python projects dealing…</td>\n",
       "      <td>4.jpeg</td>\n",
       "      <td>354</td>\n",
       "      <td>0</td>\n",
       "      <td>4</td>\n",
       "      <td>Towards Data Science</td>\n",
       "      <td>2019-05-30</td>\n",
       "    </tr>\n",
       "    <tr>\n",
       "      <th>5</th>\n",
       "      <td>https://towardsdatascience.com/a-step-by-step-...</td>\n",
       "      <td>A Step-by-Step Implementation of Gradient Desc...</td>\n",
       "      <td>One example of building neural…</td>\n",
       "      <td>5.jpeg</td>\n",
       "      <td>211</td>\n",
       "      <td>3</td>\n",
       "      <td>4</td>\n",
       "      <td>Towards Data Science</td>\n",
       "      <td>2019-05-30</td>\n",
       "    </tr>\n",
       "  </tbody>\n",
       "</table>\n",
       "</div>"
      ],
      "text/plain": [
       "                                                  url  \\\n",
       "id                                                      \n",
       "1   https://towardsdatascience.com/a-beginners-gui...   \n",
       "2   https://towardsdatascience.com/hands-on-graph-...   \n",
       "3   https://towardsdatascience.com/how-to-use-ggpl...   \n",
       "4   https://towardsdatascience.com/databricks-how-...   \n",
       "5   https://towardsdatascience.com/a-step-by-step-...   \n",
       "\n",
       "                                                title  \\\n",
       "id                                                      \n",
       "1   A Beginner’s Guide to Word Embedding with Gens...   \n",
       "2   Hands-on Graph Neural Networks with PyTorch & ...   \n",
       "3                        How to Use ggplot2 in Python   \n",
       "4   Databricks: How to Save Files in CSV on Your L...   \n",
       "5   A Step-by-Step Implementation of Gradient Desc...   \n",
       "\n",
       "                                   subtitle   image  claps responses  \\\n",
       "id                                                                     \n",
       "1                                       NaN   1.png    850         8   \n",
       "2                                       NaN   2.png   1100        11   \n",
       "3          A Grammar of Graphics for Python   3.png    767         1   \n",
       "4   When I work on Python projects dealing…  4.jpeg    354         0   \n",
       "5           One example of building neural…  5.jpeg    211         3   \n",
       "\n",
       "    reading_time           publication        date  \n",
       "id                                                  \n",
       "1              8  Towards Data Science  2019-05-30  \n",
       "2              9  Towards Data Science  2019-05-30  \n",
       "3              5  Towards Data Science  2019-05-30  \n",
       "4              4  Towards Data Science  2019-05-30  \n",
       "5              4  Towards Data Science  2019-05-30  "
      ]
     },
     "execution_count": 3,
     "metadata": {},
     "output_type": "execute_result"
    }
   ],
   "source": [
    "df.head()"
   ]
  },
  {
   "cell_type": "code",
   "execution_count": 4,
   "metadata": {},
   "outputs": [
    {
     "data": {
      "text/plain": [
       "url             6508\n",
       "title           6508\n",
       "subtitle        3479\n",
       "image           6361\n",
       "claps           6508\n",
       "responses       6508\n",
       "reading_time    6508\n",
       "publication     6508\n",
       "date            6508\n",
       "dtype: int64"
      ]
     },
     "execution_count": 4,
     "metadata": {},
     "output_type": "execute_result"
    }
   ],
   "source": [
    "df.count()"
   ]
  },
  {
   "cell_type": "code",
   "execution_count": 5,
   "metadata": {},
   "outputs": [
    {
     "data": {
      "text/plain": [
       "array(['Towards Data Science', 'UX Collective', 'The Startup',\n",
       "       'The Writing Cooperative', 'Data Driven Investor',\n",
       "       'Better Marketing', 'Better Humans'], dtype=object)"
      ]
     },
     "execution_count": 5,
     "metadata": {},
     "output_type": "execute_result"
    }
   ],
   "source": [
    "df.publication.unique()"
   ]
  },
  {
   "cell_type": "markdown",
   "metadata": {},
   "source": [
    "Since these are all different websites it could be useful to treat them as different datasets, or at least see the difference if models are trained site-wise or medium-wise."
   ]
  },
  {
   "cell_type": "markdown",
   "metadata": {},
   "source": [
    "Let's explore claps based on the different publications"
   ]
  },
  {
   "cell_type": "code",
   "execution_count": 6,
   "metadata": {},
   "outputs": [
    {
     "data": {
      "text/plain": [
       "url             object\n",
       "title           object\n",
       "subtitle        object\n",
       "image           object\n",
       "claps            int64\n",
       "responses       object\n",
       "reading_time     int64\n",
       "publication     object\n",
       "date            object\n",
       "dtype: object"
      ]
     },
     "execution_count": 6,
     "metadata": {},
     "output_type": "execute_result"
    }
   ],
   "source": [
    "df.dtypes"
   ]
  },
  {
   "cell_type": "markdown",
   "metadata": {},
   "source": [
    "There is some problem with the dataset: responsens should be an integer type it's an object, let's check why"
   ]
  },
  {
   "cell_type": "code",
   "execution_count": 7,
   "metadata": {},
   "outputs": [],
   "source": [
    "responses = df.responses"
   ]
  },
  {
   "cell_type": "code",
   "execution_count": 8,
   "metadata": {},
   "outputs": [
    {
     "data": {
      "text/html": [
       "<div>\n",
       "<style scoped>\n",
       "    .dataframe tbody tr th:only-of-type {\n",
       "        vertical-align: middle;\n",
       "    }\n",
       "\n",
       "    .dataframe tbody tr th {\n",
       "        vertical-align: top;\n",
       "    }\n",
       "\n",
       "    .dataframe thead th {\n",
       "        text-align: right;\n",
       "    }\n",
       "</style>\n",
       "<table border=\"1\" class=\"dataframe\">\n",
       "  <thead>\n",
       "    <tr style=\"text-align: right;\">\n",
       "      <th></th>\n",
       "      <th>url</th>\n",
       "      <th>title</th>\n",
       "      <th>subtitle</th>\n",
       "      <th>image</th>\n",
       "      <th>claps</th>\n",
       "      <th>responses</th>\n",
       "      <th>reading_time</th>\n",
       "      <th>publication</th>\n",
       "      <th>date</th>\n",
       "    </tr>\n",
       "    <tr>\n",
       "      <th>id</th>\n",
       "      <th></th>\n",
       "      <th></th>\n",
       "      <th></th>\n",
       "      <th></th>\n",
       "      <th></th>\n",
       "      <th></th>\n",
       "      <th></th>\n",
       "      <th></th>\n",
       "      <th></th>\n",
       "    </tr>\n",
       "  </thead>\n",
       "  <tbody>\n",
       "    <tr>\n",
       "      <th>3978</th>\n",
       "      <td>https://medium.com/datadriveninvestor/what-do-...</td>\n",
       "      <td>What do you think of the Open Group’s Data Sci...</td>\n",
       "      <td>NaN</td>\n",
       "      <td>3978.jpg</td>\n",
       "      <td>73</td>\n",
       "      <td>Read</td>\n",
       "      <td>3</td>\n",
       "      <td>Data Driven Investor</td>\n",
       "      <td>2019-05-24</td>\n",
       "    </tr>\n",
       "    <tr>\n",
       "      <th>6393</th>\n",
       "      <td>https://uxdesign.cc/please-please-please-tell-...</td>\n",
       "      <td>UX doesn’t discriminate, it targets behaviours</td>\n",
       "      <td>NaN</td>\n",
       "      <td>NaN</td>\n",
       "      <td>74</td>\n",
       "      <td>Read</td>\n",
       "      <td>5</td>\n",
       "      <td>UX Collective</td>\n",
       "      <td>2019-12-05</td>\n",
       "    </tr>\n",
       "  </tbody>\n",
       "</table>\n",
       "</div>"
      ],
      "text/plain": [
       "                                                    url  \\\n",
       "id                                                        \n",
       "3978  https://medium.com/datadriveninvestor/what-do-...   \n",
       "6393  https://uxdesign.cc/please-please-please-tell-...   \n",
       "\n",
       "                                                  title subtitle     image  \\\n",
       "id                                                                           \n",
       "3978  What do you think of the Open Group’s Data Sci...      NaN  3978.jpg   \n",
       "6393     UX doesn’t discriminate, it targets behaviours      NaN       NaN   \n",
       "\n",
       "      claps responses  reading_time           publication        date  \n",
       "id                                                                     \n",
       "3978     73      Read             3  Data Driven Investor  2019-05-24  \n",
       "6393     74      Read             5         UX Collective  2019-12-05  "
      ]
     },
     "execution_count": 8,
     "metadata": {},
     "output_type": "execute_result"
    }
   ],
   "source": [
    "# First attempt (reference)\n",
    "\"\"\"\n",
    "for idx, n_responses in responses:\n",
    "    \n",
    "    if(not n_responses.isnumeric()):\n",
    "        print(n_responses)\n",
    "        print(idx)\n",
    "\"\"\"\n",
    "\n",
    "# Cleaner solution\n",
    "query = df.apply(lambda row: not row['responses'].isnumeric(), axis=1)\n",
    "\n",
    "df[query]"
   ]
  },
  {
   "cell_type": "markdown",
   "metadata": {},
   "source": [
    "As we have a lot of articles in the dataset, we can stay conservatives and remove these two rows"
   ]
  },
  {
   "cell_type": "code",
   "execution_count": 9,
   "metadata": {},
   "outputs": [],
   "source": [
    "df = df[~query]"
   ]
  },
  {
   "cell_type": "code",
   "execution_count": 10,
   "metadata": {},
   "outputs": [
    {
     "data": {
      "text/plain": [
       "url             6506\n",
       "title           6506\n",
       "subtitle        3479\n",
       "image           6360\n",
       "claps           6506\n",
       "responses       6506\n",
       "reading_time    6506\n",
       "publication     6506\n",
       "date            6506\n",
       "dtype: int64"
      ]
     },
     "execution_count": 10,
     "metadata": {},
     "output_type": "execute_result"
    }
   ],
   "source": [
    "df.count()"
   ]
  },
  {
   "cell_type": "code",
   "execution_count": 11,
   "metadata": {},
   "outputs": [
    {
     "data": {
      "text/plain": [
       "url             object\n",
       "title           object\n",
       "subtitle        object\n",
       "image           object\n",
       "claps            int64\n",
       "responses       object\n",
       "reading_time     int64\n",
       "publication     object\n",
       "date            object\n",
       "dtype: object"
      ]
     },
     "execution_count": 11,
     "metadata": {},
     "output_type": "execute_result"
    }
   ],
   "source": [
    "df.dtypes"
   ]
  },
  {
   "cell_type": "markdown",
   "metadata": {},
   "source": [
    "The responses column is still of generic type object, we need to convert it"
   ]
  },
  {
   "cell_type": "code",
   "execution_count": 12,
   "metadata": {},
   "outputs": [
    {
     "data": {
      "text/plain": [
       "url             object\n",
       "title           object\n",
       "subtitle        object\n",
       "image           object\n",
       "claps            int64\n",
       "responses        int64\n",
       "reading_time     int64\n",
       "publication     object\n",
       "date            object\n",
       "dtype: object"
      ]
     },
     "execution_count": 12,
     "metadata": {},
     "output_type": "execute_result"
    }
   ],
   "source": [
    "df['responses'] = df['responses'].astype(int)\n",
    "df.dtypes"
   ]
  },
  {
   "cell_type": "code",
   "execution_count": 13,
   "metadata": {},
   "outputs": [
    {
     "data": {
      "text/plain": [
       "<matplotlib.axes._subplots.AxesSubplot at 0x7f80e2727cd0>"
      ]
     },
     "execution_count": 13,
     "metadata": {},
     "output_type": "execute_result"
    },
    {
     "data": {
      "image/png": "[encoded data removed]",
      "text/plain": [
       "<Figure size 432x288 with 1 Axes>"
      ]
     },
     "metadata": {
      "needs_background": "light"
     },
     "output_type": "display_data"
    }
   ],
   "source": [
    "sns.kdeplot(df.responses)"
   ]
  },
  {
   "cell_type": "code",
   "execution_count": 14,
   "metadata": {},
   "outputs": [
    {
     "data": {
      "text/plain": [
       "<matplotlib.axes._subplots.AxesSubplot at 0x7f80e1ef8990>"
      ]
     },
     "execution_count": 14,
     "metadata": {},
     "output_type": "execute_result"
    },
    {
     "data": {
      "image/png": "[encoded data removed]",
      "text/plain": [
       "<Figure size 432x288 with 1 Axes>"
      ]
     },
     "metadata": {
      "needs_background": "light"
     },
     "output_type": "display_data"
    }
   ],
   "source": [
    "sns.kdeplot(df.claps)"
   ]
  },
  {
   "cell_type": "markdown",
   "metadata": {},
   "source": [
    "We can see that the distribution of both claps and responses is quite similar and we can expect high correlation between the two columns"
   ]
  },
  {
   "cell_type": "code",
   "execution_count": 15,
   "metadata": {},
   "outputs": [
    {
     "data": {
      "text/plain": [
       "0.8387083748257861"
      ]
     },
     "execution_count": 15,
     "metadata": {},
     "output_type": "execute_result"
    }
   ],
   "source": [
    "df['claps'].corr(df['responses'])"
   ]
  },
  {
   "cell_type": "markdown",
   "metadata": {},
   "source": [
    "As expected, the problem is that we can't use responses to predict claps because, as you can expect, they both happen after the post is online and we need to predict how the post will perform before we even publish it."
   ]
  },
  {
   "cell_type": "markdown",
   "metadata": {},
   "source": [
    "The task descriptions says that we need to predict claps based on title, subtitle and front image but why should we miss on the other valid data?\n",
    "\n",
    "For example we can use reading time (as it is calculated by Medium while the post is still a draft) and we can also generate features based on publishing date (like month, quarter of the year, day of the week etc..)\n",
    "\n",
    "Also if the model we will write is general for medium, we can even use publication as a predictor"
   ]
  },
  {
   "cell_type": "markdown",
   "metadata": {},
   "source": [
    "Let's check how much correlated is reading_time with claps:"
   ]
  },
  {
   "cell_type": "code",
   "execution_count": 16,
   "metadata": {},
   "outputs": [
    {
     "data": {
      "text/plain": [
       "0.07423747336514576"
      ]
     },
     "execution_count": 16,
     "metadata": {},
     "output_type": "execute_result"
    }
   ],
   "source": [
    "df['claps'].corr(df['reading_time'])"
   ]
  },
  {
   "cell_type": "markdown",
   "metadata": {},
   "source": [
    "The correlation of reading_time and claps is really low, but there is some effect. One hypothesis could be that user that read an article for longer could click claps more times during the reading."
   ]
  },
  {
   "cell_type": "markdown",
   "metadata": {},
   "source": [
    "It is interesting to check if the effect is different by publication (as the readers are from different domains)"
   ]
  },
  {
   "cell_type": "code",
   "execution_count": 17,
   "metadata": {
    "scrolled": true
   },
   "outputs": [
    {
     "name": "stdout",
     "output_type": "stream",
     "text": [
      "Towards Data Science has 1461 articles\n",
      "UX Collective has 554 articles\n",
      "The Startup has 3041 articles\n",
      "The Writing Cooperative has 403 articles\n",
      "Data Driven Investor has 777 articles\n",
      "Better Marketing has 242 articles\n",
      "Better Humans has 28 articles\n"
     ]
    }
   ],
   "source": [
    "for publication in df.publication.unique():\n",
    "    pub_df = df[df['publication'] == publication]\n",
    "    print(\"{} has {} articles\".format(publication, pub_df.shape[0]))\n",
    "    "
   ]
  },
  {
   "cell_type": "markdown",
   "metadata": {},
   "source": [
    "The number of articles they all seem sufficient for experimentation, just Better Humans seems to not have enough of them."
   ]
  },
  {
   "cell_type": "code",
   "execution_count": 18,
   "metadata": {
    "scrolled": true
   },
   "outputs": [
    {
     "name": "stdout",
     "output_type": "stream",
     "text": [
      "Towards Data Science has 0.15554793532294087 correlation between claps and reading_time \n",
      "UX Collective has 0.15056143188578966 correlation between claps and reading_time \n",
      "The Startup has 0.015584638910618216 correlation between claps and reading_time \n",
      "The Writing Cooperative has 0.033461778166128046 correlation between claps and reading_time \n",
      "Data Driven Investor has 0.1750898540449691 correlation between claps and reading_time \n",
      "Better Marketing has 0.08595599268513456 correlation between claps and reading_time \n",
      "Better Humans has -0.04049860498109845 correlation between claps and reading_time \n"
     ]
    }
   ],
   "source": [
    "for publication in df.publication.unique():\n",
    "    pub_df = df[df['publication'] == publication]\n",
    "    corr = pub_df['claps'].corr(pub_df['reading_time'])\n",
    "    print(\"{} has {} correlation between claps and reading_time \".format(publication, corr))"
   ]
  },
  {
   "cell_type": "markdown",
   "metadata": {},
   "source": [
    "Interesting, all the \"computer science\" oriented websites have higher correlation between reading time and claps"
   ]
  },
  {
   "cell_type": "markdown",
   "metadata": {},
   "source": [
    "Let's save the new dataframe for future use."
   ]
  },
  {
   "cell_type": "code",
   "execution_count": 19,
   "metadata": {},
   "outputs": [],
   "source": [
    "df.to_csv('data/cleaned.csv')"
   ]
  },
  {
   "cell_type": "markdown",
   "metadata": {},
   "source": [
    "# Problem tackling hypothesis"
   ]
  },
  {
   "cell_type": "markdown",
   "metadata": {},
   "source": [
    "The problem is a regression problem but it is not setup as a classical machine learning problem.\n",
    "It merges up to 3 areas (based on what features one wants to use), the main areas are the following:\n",
    "\n",
    "- Tabular data: For everything relative to reading time and date\n",
    "- NLP: to generate features for the ML algorithms\n",
    "- Deep learning vision: to use images as predictors of claps"
   ]
  },
  {
   "cell_type": "markdown",
   "metadata": {},
   "source": [
    "The idea is that to use NLP to generate features and add them to the dataset and using classical ML regression algorithms (linear regression, decision trees, gradient boosted trees etc...).\n",
    "Then create a deep learning module that can calculate the same regression using only images, in the end using some ensemble or weighted average to give the final result.\n",
    "\n",
    "If the regression using images is too difficult another test could be that of binning claps and trasforming everything to a classification problem and add the result as a feature for tabular data."
   ]
  },
  {
   "cell_type": "code",
   "execution_count": null,
   "metadata": {},
   "outputs": [],
   "source": []
  }
 ],
 "metadata": {
  "kernelspec": {
   "display_name": "Python 3",
   "language": "python",
   "name": "python3"
  },
  "language_info": {
   "codemirror_mode": {
    "name": "ipython",
    "version": 3
   },
   "file_extension": ".py",
   "mimetype": "text/x-python",
   "name": "python",
   "nbconvert_exporter": "python",
   "pygments_lexer": "ipython3",
   "version": "3.7.6"
  }
 },
 "nbformat": 4,
 "nbformat_minor": 4
}
